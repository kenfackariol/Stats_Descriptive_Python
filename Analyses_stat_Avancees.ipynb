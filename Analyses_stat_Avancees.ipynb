{
 "cells": [
  {
   "cell_type": "markdown",
   "metadata": {},
   "source": [
    "# Activité Avancée : Analyse Statistique Descriptive avec Python\n",
    "\n",
    "**Étapes de l’Activité**\n",
    "1. Exploration Initiale des Données\n"
   ]
  },
  {
   "cell_type": "code",
   "execution_count": 94,
   "metadata": {},
   "outputs": [
    {
     "data": {
      "text/html": [
       "<div>\n",
       "<style scoped>\n",
       "    .dataframe tbody tr th:only-of-type {\n",
       "        vertical-align: middle;\n",
       "    }\n",
       "\n",
       "    .dataframe tbody tr th {\n",
       "        vertical-align: top;\n",
       "    }\n",
       "\n",
       "    .dataframe thead th {\n",
       "        text-align: right;\n",
       "    }\n",
       "</style>\n",
       "<table border=\"1\" class=\"dataframe\">\n",
       "  <thead>\n",
       "    <tr style=\"text-align: right;\">\n",
       "      <th></th>\n",
       "      <th>Age</th>\n",
       "      <th>Revenu</th>\n",
       "      <th>Score</th>\n",
       "      <th>Genre</th>\n",
       "      <th>Ville</th>\n",
       "    </tr>\n",
       "  </thead>\n",
       "  <tbody>\n",
       "    <tr>\n",
       "      <th>0</th>\n",
       "      <td>46.0</td>\n",
       "      <td>78.0</td>\n",
       "      <td>92.0</td>\n",
       "      <td>Homme</td>\n",
       "      <td>Lyon</td>\n",
       "    </tr>\n",
       "    <tr>\n",
       "      <th>1</th>\n",
       "      <td>38.0</td>\n",
       "      <td>65.0</td>\n",
       "      <td>80.0</td>\n",
       "      <td>Homme</td>\n",
       "      <td>Marseille</td>\n",
       "    </tr>\n",
       "    <tr>\n",
       "      <th>2</th>\n",
       "      <td>48.0</td>\n",
       "      <td>46.0</td>\n",
       "      <td>100.0</td>\n",
       "      <td>Homme</td>\n",
       "      <td>Bordeaux</td>\n",
       "    </tr>\n",
       "    <tr>\n",
       "      <th>3</th>\n",
       "      <td>58.0</td>\n",
       "      <td>35.0</td>\n",
       "      <td>47.0</td>\n",
       "      <td>Homme</td>\n",
       "      <td>Paris</td>\n",
       "    </tr>\n",
       "    <tr>\n",
       "      <th>4</th>\n",
       "      <td>NaN</td>\n",
       "      <td>59.0</td>\n",
       "      <td>91.0</td>\n",
       "      <td>Femme</td>\n",
       "      <td>Marseille</td>\n",
       "    </tr>\n",
       "    <tr>\n",
       "      <th>5</th>\n",
       "      <td>37.0</td>\n",
       "      <td>52.0</td>\n",
       "      <td>88.0</td>\n",
       "      <td>Femme</td>\n",
       "      <td>Marseille</td>\n",
       "    </tr>\n",
       "    <tr>\n",
       "      <th>6</th>\n",
       "      <td>59.0</td>\n",
       "      <td>64.0</td>\n",
       "      <td>58.0</td>\n",
       "      <td>Homme</td>\n",
       "      <td>Paris</td>\n",
       "    </tr>\n",
       "    <tr>\n",
       "      <th>7</th>\n",
       "      <td>49.0</td>\n",
       "      <td>58.0</td>\n",
       "      <td>89.0</td>\n",
       "      <td>Femme</td>\n",
       "      <td>Marseille</td>\n",
       "    </tr>\n",
       "    <tr>\n",
       "      <th>8</th>\n",
       "      <td>34.0</td>\n",
       "      <td>68.0</td>\n",
       "      <td>75.0</td>\n",
       "      <td>Femme</td>\n",
       "      <td>Paris</td>\n",
       "    </tr>\n",
       "    <tr>\n",
       "      <th>9</th>\n",
       "      <td>47.0</td>\n",
       "      <td>36.0</td>\n",
       "      <td>68.0</td>\n",
       "      <td>Homme</td>\n",
       "      <td>Lyon</td>\n",
       "    </tr>\n",
       "  </tbody>\n",
       "</table>\n",
       "</div>"
      ],
      "text/plain": [
       "    Age  Revenu  Score  Genre      Ville\n",
       "0  46.0    78.0   92.0  Homme       Lyon\n",
       "1  38.0    65.0   80.0  Homme  Marseille\n",
       "2  48.0    46.0  100.0  Homme   Bordeaux\n",
       "3  58.0    35.0   47.0  Homme      Paris\n",
       "4   NaN    59.0   91.0  Femme  Marseille\n",
       "5  37.0    52.0   88.0  Femme  Marseille\n",
       "6  59.0    64.0   58.0  Homme      Paris\n",
       "7  49.0    58.0   89.0  Femme  Marseille\n",
       "8  34.0    68.0   75.0  Femme      Paris\n",
       "9  47.0    36.0   68.0  Homme       Lyon"
      ]
     },
     "execution_count": 94,
     "metadata": {},
     "output_type": "execute_result"
    }
   ],
   "source": [
    "import numpy as np\n",
    "import matplotlib as plt\n",
    "import pandas as pd\n",
    "\n",
    "df = pd.read_csv(\"data.csv\",sep=\",\", header=0)\n",
    "df.head(10)\n",
    "\n",
    "\n"
   ]
  },
  {
   "cell_type": "code",
   "execution_count": 95,
   "metadata": {},
   "outputs": [
    {
     "data": {
      "text/plain": [
       "Age       float64\n",
       "Revenu    float64\n",
       "Score     float64\n",
       "Genre      object\n",
       "Ville      object\n",
       "dtype: object"
      ]
     },
     "execution_count": 95,
     "metadata": {},
     "output_type": "execute_result"
    }
   ],
   "source": [
    "df.dtypes"
   ]
  },
  {
   "cell_type": "markdown",
   "metadata": {},
   "source": [
    "Pourcentage de Valeurs manquantes par rapport au nombre de ligne"
   ]
  },
  {
   "cell_type": "code",
   "execution_count": 96,
   "metadata": {},
   "outputs": [
    {
     "data": {
      "text/plain": [
       "Revenu    3.3\n",
       "Age       1.9\n",
       "Score     0.8\n",
       "Genre     0.0\n",
       "Ville     0.0\n",
       "dtype: float64"
      ]
     },
     "execution_count": 96,
     "metadata": {},
     "output_type": "execute_result"
    }
   ],
   "source": [
    "(df.isna().sum()/df.shape[0]).sort_values(ascending=False) * 100"
   ]
  },
  {
   "cell_type": "code",
   "execution_count": 97,
   "metadata": {},
   "outputs": [
    {
     "data": {
      "text/plain": [
       "Age       float64\n",
       "Revenu    float64\n",
       "Score     float64\n",
       "Genre      object\n",
       "Ville      object\n",
       "dtype: object"
      ]
     },
     "execution_count": 97,
     "metadata": {},
     "output_type": "execute_result"
    }
   ],
   "source": [
    "df.dtypes"
   ]
  },
  {
   "cell_type": "markdown",
   "metadata": {},
   "source": [
    "Gestion des valeurs manquantes"
   ]
  },
  {
   "cell_type": "code",
   "execution_count": 98,
   "metadata": {},
   "outputs": [],
   "source": [
    "df = df.fillna({\n",
    "    \"Score\" : df[\"Score\"].mean(),\n",
    "    \"Age\" : df[\"Age\"].mean(),\n",
    "    \"Revenu\" : df[\"Revenu\"].median()\n",
    "})\n"
   ]
  },
  {
   "cell_type": "code",
   "execution_count": 99,
   "metadata": {},
   "outputs": [
    {
     "data": {
      "text/plain": [
       "Age       float64\n",
       "Revenu    float64\n",
       "Score     float64\n",
       "Genre      object\n",
       "Ville      object\n",
       "dtype: object"
      ]
     },
     "execution_count": 99,
     "metadata": {},
     "output_type": "execute_result"
    }
   ],
   "source": [
    "df.dtypes"
   ]
  },
  {
   "cell_type": "code",
   "execution_count": 100,
   "metadata": {},
   "outputs": [
    {
     "data": {
      "text/plain": [
       "Age       0.0\n",
       "Revenu    0.0\n",
       "Score     0.0\n",
       "Genre     0.0\n",
       "Ville     0.0\n",
       "dtype: float64"
      ]
     },
     "execution_count": 100,
     "metadata": {},
     "output_type": "execute_result"
    }
   ],
   "source": [
    "(df.isna().sum()/df.shape[0]).sort_values(ascending=False) * 100"
   ]
  },
  {
   "cell_type": "code",
   "execution_count": 101,
   "metadata": {},
   "outputs": [
    {
     "data": {
      "text/html": [
       "<div>\n",
       "<style scoped>\n",
       "    .dataframe tbody tr th:only-of-type {\n",
       "        vertical-align: middle;\n",
       "    }\n",
       "\n",
       "    .dataframe tbody tr th {\n",
       "        vertical-align: top;\n",
       "    }\n",
       "\n",
       "    .dataframe thead th {\n",
       "        text-align: right;\n",
       "    }\n",
       "</style>\n",
       "<table border=\"1\" class=\"dataframe\">\n",
       "  <thead>\n",
       "    <tr style=\"text-align: right;\">\n",
       "      <th></th>\n",
       "      <th>Age</th>\n",
       "      <th>Revenu</th>\n",
       "      <th>Score</th>\n",
       "      <th>Genre</th>\n",
       "      <th>Ville</th>\n",
       "    </tr>\n",
       "  </thead>\n",
       "  <tbody>\n",
       "    <tr>\n",
       "      <th>0</th>\n",
       "      <td>46.000000</td>\n",
       "      <td>78.0</td>\n",
       "      <td>92.0</td>\n",
       "      <td>Homme</td>\n",
       "      <td>Lyon</td>\n",
       "    </tr>\n",
       "    <tr>\n",
       "      <th>1</th>\n",
       "      <td>38.000000</td>\n",
       "      <td>65.0</td>\n",
       "      <td>80.0</td>\n",
       "      <td>Homme</td>\n",
       "      <td>Marseille</td>\n",
       "    </tr>\n",
       "    <tr>\n",
       "      <th>2</th>\n",
       "      <td>48.000000</td>\n",
       "      <td>46.0</td>\n",
       "      <td>100.0</td>\n",
       "      <td>Homme</td>\n",
       "      <td>Bordeaux</td>\n",
       "    </tr>\n",
       "    <tr>\n",
       "      <th>3</th>\n",
       "      <td>58.000000</td>\n",
       "      <td>35.0</td>\n",
       "      <td>47.0</td>\n",
       "      <td>Homme</td>\n",
       "      <td>Paris</td>\n",
       "    </tr>\n",
       "    <tr>\n",
       "      <th>4</th>\n",
       "      <td>40.395515</td>\n",
       "      <td>59.0</td>\n",
       "      <td>91.0</td>\n",
       "      <td>Femme</td>\n",
       "      <td>Marseille</td>\n",
       "    </tr>\n",
       "    <tr>\n",
       "      <th>5</th>\n",
       "      <td>37.000000</td>\n",
       "      <td>52.0</td>\n",
       "      <td>88.0</td>\n",
       "      <td>Femme</td>\n",
       "      <td>Marseille</td>\n",
       "    </tr>\n",
       "    <tr>\n",
       "      <th>6</th>\n",
       "      <td>59.000000</td>\n",
       "      <td>64.0</td>\n",
       "      <td>58.0</td>\n",
       "      <td>Homme</td>\n",
       "      <td>Paris</td>\n",
       "    </tr>\n",
       "    <tr>\n",
       "      <th>7</th>\n",
       "      <td>49.000000</td>\n",
       "      <td>58.0</td>\n",
       "      <td>89.0</td>\n",
       "      <td>Femme</td>\n",
       "      <td>Marseille</td>\n",
       "    </tr>\n",
       "    <tr>\n",
       "      <th>8</th>\n",
       "      <td>34.000000</td>\n",
       "      <td>68.0</td>\n",
       "      <td>75.0</td>\n",
       "      <td>Femme</td>\n",
       "      <td>Paris</td>\n",
       "    </tr>\n",
       "    <tr>\n",
       "      <th>9</th>\n",
       "      <td>47.000000</td>\n",
       "      <td>36.0</td>\n",
       "      <td>68.0</td>\n",
       "      <td>Homme</td>\n",
       "      <td>Lyon</td>\n",
       "    </tr>\n",
       "    <tr>\n",
       "      <th>10</th>\n",
       "      <td>34.000000</td>\n",
       "      <td>76.0</td>\n",
       "      <td>57.0</td>\n",
       "      <td>Homme</td>\n",
       "      <td>Paris</td>\n",
       "    </tr>\n",
       "    <tr>\n",
       "      <th>11</th>\n",
       "      <td>34.000000</td>\n",
       "      <td>48.0</td>\n",
       "      <td>61.0</td>\n",
       "      <td>Femme</td>\n",
       "      <td>Lyon</td>\n",
       "    </tr>\n",
       "    <tr>\n",
       "      <th>12</th>\n",
       "      <td>43.000000</td>\n",
       "      <td>103.0</td>\n",
       "      <td>100.0</td>\n",
       "      <td>Femme</td>\n",
       "      <td>Lyon</td>\n",
       "    </tr>\n",
       "    <tr>\n",
       "      <th>13</th>\n",
       "      <td>18.000000</td>\n",
       "      <td>46.0</td>\n",
       "      <td>69.0</td>\n",
       "      <td>Femme</td>\n",
       "      <td>Bordeaux</td>\n",
       "    </tr>\n",
       "    <tr>\n",
       "      <th>14</th>\n",
       "      <td>19.000000</td>\n",
       "      <td>90.0</td>\n",
       "      <td>79.0</td>\n",
       "      <td>Homme</td>\n",
       "      <td>Paris</td>\n",
       "    </tr>\n",
       "    <tr>\n",
       "      <th>15</th>\n",
       "      <td>33.000000</td>\n",
       "      <td>48.0</td>\n",
       "      <td>58.0</td>\n",
       "      <td>Homme</td>\n",
       "      <td>Lyon</td>\n",
       "    </tr>\n",
       "    <tr>\n",
       "      <th>16</th>\n",
       "      <td>28.000000</td>\n",
       "      <td>34.0</td>\n",
       "      <td>56.0</td>\n",
       "      <td>Homme</td>\n",
       "      <td>Lyon</td>\n",
       "    </tr>\n",
       "    <tr>\n",
       "      <th>17</th>\n",
       "      <td>44.000000</td>\n",
       "      <td>37.0</td>\n",
       "      <td>88.0</td>\n",
       "      <td>Homme</td>\n",
       "      <td>Bordeaux</td>\n",
       "    </tr>\n",
       "    <tr>\n",
       "      <th>18</th>\n",
       "      <td>29.000000</td>\n",
       "      <td>39.0</td>\n",
       "      <td>46.0</td>\n",
       "      <td>Homme</td>\n",
       "      <td>Marseille</td>\n",
       "    </tr>\n",
       "    <tr>\n",
       "      <th>19</th>\n",
       "      <td>23.000000</td>\n",
       "      <td>53.0</td>\n",
       "      <td>60.0</td>\n",
       "      <td>Homme</td>\n",
       "      <td>Marseille</td>\n",
       "    </tr>\n",
       "  </tbody>\n",
       "</table>\n",
       "</div>"
      ],
      "text/plain": [
       "          Age  Revenu  Score  Genre      Ville\n",
       "0   46.000000    78.0   92.0  Homme       Lyon\n",
       "1   38.000000    65.0   80.0  Homme  Marseille\n",
       "2   48.000000    46.0  100.0  Homme   Bordeaux\n",
       "3   58.000000    35.0   47.0  Homme      Paris\n",
       "4   40.395515    59.0   91.0  Femme  Marseille\n",
       "5   37.000000    52.0   88.0  Femme  Marseille\n",
       "6   59.000000    64.0   58.0  Homme      Paris\n",
       "7   49.000000    58.0   89.0  Femme  Marseille\n",
       "8   34.000000    68.0   75.0  Femme      Paris\n",
       "9   47.000000    36.0   68.0  Homme       Lyon\n",
       "10  34.000000    76.0   57.0  Homme      Paris\n",
       "11  34.000000    48.0   61.0  Femme       Lyon\n",
       "12  43.000000   103.0  100.0  Femme       Lyon\n",
       "13  18.000000    46.0   69.0  Femme   Bordeaux\n",
       "14  19.000000    90.0   79.0  Homme      Paris\n",
       "15  33.000000    48.0   58.0  Homme       Lyon\n",
       "16  28.000000    34.0   56.0  Homme       Lyon\n",
       "17  44.000000    37.0   88.0  Homme   Bordeaux\n",
       "18  29.000000    39.0   46.0  Homme  Marseille\n",
       "19  23.000000    53.0   60.0  Homme  Marseille"
      ]
     },
     "execution_count": 101,
     "metadata": {},
     "output_type": "execute_result"
    }
   ],
   "source": [
    "df.head(20)"
   ]
  },
  {
   "cell_type": "code",
   "execution_count": 79,
   "metadata": {},
   "outputs": [
    {
     "data": {
      "text/plain": [
       "Age        object\n",
       "Revenu    float64\n",
       "Score      object\n",
       "Genre      object\n",
       "Ville      object\n",
       "dtype: object"
      ]
     },
     "execution_count": 79,
     "metadata": {},
     "output_type": "execute_result"
    }
   ],
   "source": [
    "df.dtypes"
   ]
  },
  {
   "cell_type": "markdown",
   "metadata": {},
   "source": [
    "### 2. Analyse de la Distribution"
   ]
  },
  {
   "cell_type": "code",
   "execution_count": 112,
   "metadata": {},
   "outputs": [
    {
     "data": {
      "image/png": "[encoded data removed]",
      "text/plain": [
       "<Figure size 640x480 with 1 Axes>"
      ]
     },
     "metadata": {},
     "output_type": "display_data"
    }
   ],
   "source": [
    "import matplotlib.pyplot as plt\n",
    "import seaborn as sns\n",
    "\n",
    "sns.boxplot(data = df[[\"Age\", \"Revenu\", \"Score\"]])\n",
    "plt.title(\"Boxplot des variables Age, Revenu et Score\")\n",
    "plt.show()"
   ]
  },
  {
   "cell_type": "markdown",
   "metadata": {},
   "source": [
    "*Interpretation des valeurs aberrantes (outlier)*\n",
    "\n",
    "Y'a trop de valeurs aberrantes "
   ]
  },
  {
   "cell_type": "markdown",
   "metadata": {},
   "source": [
    "### 3. Analyse Catégorique\n",
    "Calculer la répartition des participants selon leur Genre et leur Ville"
   ]
  },
  {
   "cell_type": "code",
   "execution_count": 147,
   "metadata": {},
   "outputs": [
    {
     "name": "stdout",
     "output_type": "stream",
     "text": [
      "Répartition des participants selon Genre et Ville :\n"
     ]
    },
    {
     "data": {
      "text/html": [
       "<div>\n",
       "<style scoped>\n",
       "    .dataframe tbody tr th:only-of-type {\n",
       "        vertical-align: middle;\n",
       "    }\n",
       "\n",
       "    .dataframe tbody tr th {\n",
       "        vertical-align: top;\n",
       "    }\n",
       "\n",
       "    .dataframe thead th {\n",
       "        text-align: right;\n",
       "    }\n",
       "</style>\n",
       "<table border=\"1\" class=\"dataframe\">\n",
       "  <thead>\n",
       "    <tr style=\"text-align: right;\">\n",
       "      <th></th>\n",
       "      <th>Genre</th>\n",
       "      <th>Ville</th>\n",
       "      <th>Effectif</th>\n",
       "      <th>Proportion (%)</th>\n",
       "    </tr>\n",
       "  </thead>\n",
       "  <tbody>\n",
       "    <tr>\n",
       "      <th>0</th>\n",
       "      <td>Femme</td>\n",
       "      <td>Bordeaux</td>\n",
       "      <td>71</td>\n",
       "      <td>7.1</td>\n",
       "    </tr>\n",
       "    <tr>\n",
       "      <th>1</th>\n",
       "      <td>Femme</td>\n",
       "      <td>Lille</td>\n",
       "      <td>65</td>\n",
       "      <td>6.5</td>\n",
       "    </tr>\n",
       "    <tr>\n",
       "      <th>2</th>\n",
       "      <td>Femme</td>\n",
       "      <td>Lyon</td>\n",
       "      <td>120</td>\n",
       "      <td>12.0</td>\n",
       "    </tr>\n",
       "    <tr>\n",
       "      <th>3</th>\n",
       "      <td>Femme</td>\n",
       "      <td>Marseille</td>\n",
       "      <td>104</td>\n",
       "      <td>10.4</td>\n",
       "    </tr>\n",
       "    <tr>\n",
       "      <th>4</th>\n",
       "      <td>Femme</td>\n",
       "      <td>Paris</td>\n",
       "      <td>157</td>\n",
       "      <td>15.7</td>\n",
       "    </tr>\n",
       "    <tr>\n",
       "      <th>5</th>\n",
       "      <td>Homme</td>\n",
       "      <td>Bordeaux</td>\n",
       "      <td>66</td>\n",
       "      <td>6.6</td>\n",
       "    </tr>\n",
       "    <tr>\n",
       "      <th>6</th>\n",
       "      <td>Homme</td>\n",
       "      <td>Lille</td>\n",
       "      <td>58</td>\n",
       "      <td>5.8</td>\n",
       "    </tr>\n",
       "    <tr>\n",
       "      <th>7</th>\n",
       "      <td>Homme</td>\n",
       "      <td>Lyon</td>\n",
       "      <td>88</td>\n",
       "      <td>8.8</td>\n",
       "    </tr>\n",
       "    <tr>\n",
       "      <th>8</th>\n",
       "      <td>Homme</td>\n",
       "      <td>Marseille</td>\n",
       "      <td>119</td>\n",
       "      <td>11.9</td>\n",
       "    </tr>\n",
       "    <tr>\n",
       "      <th>9</th>\n",
       "      <td>Homme</td>\n",
       "      <td>Paris</td>\n",
       "      <td>152</td>\n",
       "      <td>15.2</td>\n",
       "    </tr>\n",
       "  </tbody>\n",
       "</table>\n",
       "</div>"
      ],
      "text/plain": [
       "   Genre      Ville  Effectif  Proportion (%)\n",
       "0  Femme   Bordeaux        71             7.1\n",
       "1  Femme      Lille        65             6.5\n",
       "2  Femme       Lyon       120            12.0\n",
       "3  Femme  Marseille       104            10.4\n",
       "4  Femme      Paris       157            15.7\n",
       "5  Homme   Bordeaux        66             6.6\n",
       "6  Homme      Lille        58             5.8\n",
       "7  Homme       Lyon        88             8.8\n",
       "8  Homme  Marseille       119            11.9\n",
       "9  Homme      Paris       152            15.2"
      ]
     },
     "execution_count": 147,
     "metadata": {},
     "output_type": "execute_result"
    }
   ],
   "source": [
    "# Calcul de la répartition selon le Genre et la Ville\n",
    "repartition = df.groupby([\"Genre\", \"Ville\"]).size().reset_index(name=\"Effectif\")\n",
    "\n",
    "# Ajout des proportions\n",
    "repartition[\"Proportion (%)\"] = (repartition[\"Effectif\"] / df.shape[0]) * 100\n",
    "\n",
    "# Affichage du résultat\n",
    "print(\"Répartition des participants selon Genre et Ville :\")\n",
    "repartition.head(10)\n"
   ]
  },
  {
   "cell_type": "code",
   "execution_count": 174,
   "metadata": {},
   "outputs": [
    {
     "data": {
      "image/png": "[encoded data removed]",
      "text/plain": [
       "<Figure size 800x400 with 1 Axes>"
      ]
     },
     "metadata": {},
     "output_type": "display_data"
    }
   ],
   "source": [
    "# Visualisation : Diagramme en barres pour les effectifs\n",
    "plt.figure(figsize=(8, 4))\n",
    "sns.barplot(data=repartition, x=\"Ville\", y=\"Effectif\", hue=\"Genre\", palette=\"Set2\")\n",
    "plt.title(\"Répartition des participants par Genre et Ville\")\n",
    "plt.xlabel(\"Ville\")\n",
    "plt.ylabel(\"Effectif\")\n",
    "plt.show()"
   ]
  },
  {
   "cell_type": "code",
   "execution_count": 175,
   "metadata": {},
   "outputs": [
    {
     "data": {
      "image/png": "[encoded data removed]",
      "text/plain": [
       "<Figure size 800x400 with 1 Axes>"
      ]
     },
     "metadata": {},
     "output_type": "display_data"
    }
   ],
   "source": [
    "# Visualisation : Diagramme en barres pour les proportions\n",
    "repartition[\"Proportion (%)\"] = (repartition[\"Effectif\"] / df.shape[0]) * 100\n",
    "\n",
    "plt.figure(figsize=(8, 4))\n",
    "sns.barplot(data=repartition, x=\"Ville\", y=\"Proportion (%)\", hue=\"Genre\", palette=\"Set3\")\n",
    "plt.title(\"Proportions des participants par Genre et Ville\", fontsize=16)\n",
    "plt.xlabel(\"Ville\")\n",
    "plt.ylabel(\"Proportion (%)\")\n",
    "plt.show()"
   ]
  },
  {
   "cell_type": "code",
   "execution_count": 164,
   "metadata": {},
   "outputs": [
    {
     "name": "stdout",
     "output_type": "stream",
     "text": [
      "Age :\n",
      " - Variance : 130.60514541044614\n",
      " - Écart-type : 11.428260821771882\n",
      "\n",
      "Revenu :\n",
      " - Variance : 400.24321821821826\n",
      " - Écart-type : 20.006079531437894\n",
      "\n",
      "Score :\n",
      " - Variance : 218.1155954341438\n",
      " - Écart-type : 14.768737096791446\n",
      "\n"
     ]
    }
   ],
   "source": [
    "# Colonnes ciblées\n",
    "colonnes = [\"Age\", \"Revenu\", \"Score\"]\n",
    "\n",
    "# Calcul de la variance et de l'écart-type\n",
    "for col in colonnes:\n",
    "    variance = df[col].var()  # Variance\n",
    "    ecart_type = df[col].std()  # Écart-type\n",
    "    print(f\"{col} :\")\n",
    "    print(f\" - Variance : {variance}\")\n",
    "    print(f\" - Écart-type : {ecart_type}\")\n",
    "    print()\n"
   ]
  },
  {
   "cell_type": "code",
   "execution_count": 169,
   "metadata": {},
   "outputs": [
    {
     "name": "stdout",
     "output_type": "stream",
     "text": [
      "Age :\n",
      " - Q1 (25%) : 32.0\n",
      " - Q2 (50%, médiane) : 40.39551478083588\n",
      " - Q3 (75%) : 48.0\n",
      " - IQR : 16.0\n",
      "\n",
      "Revenu :\n",
      " - Q1 (25%) : 35.0\n",
      " - Q2 (50%, médiane) : 46.0\n",
      " - Q3 (75%) : 59.0\n",
      " - IQR : 24.0\n",
      "\n",
      "Score :\n",
      " - Q1 (25%) : 60.0\n",
      " - Q2 (50%, médiane) : 70.0\n",
      " - Q3 (75%) : 80.0\n",
      " - IQR : 20.0\n",
      "\n"
     ]
    }
   ],
   "source": [
    "# Calcul des quartiles et de l'IQR\n",
    "for col in colonnes:\n",
    "    q1 = df[col].quantile(0.25)  # Premier quartile (25%)\n",
    "    q2 = df[col].median()  # Médiane (50%)\n",
    "    q3 = df[col].quantile(0.75)  # Troisième quartile (75%)\n",
    "    iqr = q3 - q1  # Intervalle interquartile (IQR)\n",
    "    \n",
    "    print(f\"{col} :\")\n",
    "    print(f\" - Q1 (25%) : {q1}\")\n",
    "    print(f\" - Q2 (50%, médiane) : {q2}\")\n",
    "    print(f\" - Q3 (75%) : {q3}\")\n",
    "    print(f\" - IQR : {iqr}\")\n",
    "    print()"
   ]
  }
 ],
 "metadata": {
  "kernelspec": {
   "display_name": "Python 3",
   "language": "python",
   "name": "python3"
  },
  "language_info": {
   "codemirror_mode": {
    "name": "ipython",
    "version": 3
   },
   "file_extension": ".py",
   "mimetype": "text/x-python",
   "name": "python",
   "nbconvert_exporter": "python",
   "pygments_lexer": "ipython3",
   "version": "3.11.11"
  }
 },
 "nbformat": 4,
 "nbformat_minor": 2
}
